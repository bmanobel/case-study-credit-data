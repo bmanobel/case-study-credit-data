{
 "cells": [
  {
   "cell_type": "code",
   "execution_count": 9,
   "metadata": {},
   "outputs": [],
   "source": [
    "import pandas as pd\n",
    "import numpy as np\n",
    "import matplotlib.pyplot as plt\n",
    "import seaborn as sns\n",
    "\n",
    "\n",
    "from sklearn.model_selection import train_test_split    \n",
    "from sklearn.metrics import accuracy_score,classification_report\n",
    "from sklearn.preprocessing import LabelEncoder\n",
    "from sklearn.ensemble import RandomForestClassifier\n",
    "import statsmodels.api as sm\n",
    "\n",
    "\n",
    "\n",
    "%matplotlib inline"
   ]
  },
  {
   "cell_type": "code",
   "execution_count": 10,
   "metadata": {},
   "outputs": [
    {
     "data": {
      "text/html": [
       "<div>\n",
       "<style scoped>\n",
       "    .dataframe tbody tr th:only-of-type {\n",
       "        vertical-align: middle;\n",
       "    }\n",
       "\n",
       "    .dataframe tbody tr th {\n",
       "        vertical-align: top;\n",
       "    }\n",
       "\n",
       "    .dataframe thead th {\n",
       "        text-align: right;\n",
       "    }\n",
       "</style>\n",
       "<table border=\"1\" class=\"dataframe\">\n",
       "  <thead>\n",
       "    <tr style=\"text-align: right;\">\n",
       "      <th></th>\n",
       "      <th>checking_balance</th>\n",
       "      <th>months_loan_duration</th>\n",
       "      <th>credit_history</th>\n",
       "      <th>purpose</th>\n",
       "      <th>amount</th>\n",
       "      <th>savings_balance</th>\n",
       "      <th>employment_length</th>\n",
       "      <th>installment_rate</th>\n",
       "      <th>personal_status</th>\n",
       "      <th>other_debtors</th>\n",
       "      <th>...</th>\n",
       "      <th>property</th>\n",
       "      <th>age</th>\n",
       "      <th>installment_plan</th>\n",
       "      <th>housing</th>\n",
       "      <th>existing_credits</th>\n",
       "      <th>default</th>\n",
       "      <th>dependents</th>\n",
       "      <th>telephone</th>\n",
       "      <th>foreign_worker</th>\n",
       "      <th>job</th>\n",
       "    </tr>\n",
       "  </thead>\n",
       "  <tbody>\n",
       "    <tr>\n",
       "      <th>0</th>\n",
       "      <td>&lt; 0 DM</td>\n",
       "      <td>6</td>\n",
       "      <td>critical</td>\n",
       "      <td>radio/tv</td>\n",
       "      <td>1169</td>\n",
       "      <td>unknown</td>\n",
       "      <td>&gt; 7 yrs</td>\n",
       "      <td>4</td>\n",
       "      <td>single male</td>\n",
       "      <td>none</td>\n",
       "      <td>...</td>\n",
       "      <td>real estate</td>\n",
       "      <td>67</td>\n",
       "      <td>none</td>\n",
       "      <td>own</td>\n",
       "      <td>2</td>\n",
       "      <td>1</td>\n",
       "      <td>1</td>\n",
       "      <td>yes</td>\n",
       "      <td>yes</td>\n",
       "      <td>skilled employee</td>\n",
       "    </tr>\n",
       "    <tr>\n",
       "      <th>1</th>\n",
       "      <td>1 - 200 DM</td>\n",
       "      <td>48</td>\n",
       "      <td>repaid</td>\n",
       "      <td>radio/tv</td>\n",
       "      <td>5951</td>\n",
       "      <td>&lt; 100 DM</td>\n",
       "      <td>1 - 4 yrs</td>\n",
       "      <td>2</td>\n",
       "      <td>female</td>\n",
       "      <td>none</td>\n",
       "      <td>...</td>\n",
       "      <td>real estate</td>\n",
       "      <td>22</td>\n",
       "      <td>none</td>\n",
       "      <td>own</td>\n",
       "      <td>1</td>\n",
       "      <td>2</td>\n",
       "      <td>1</td>\n",
       "      <td>none</td>\n",
       "      <td>yes</td>\n",
       "      <td>skilled employee</td>\n",
       "    </tr>\n",
       "    <tr>\n",
       "      <th>2</th>\n",
       "      <td>unknown</td>\n",
       "      <td>12</td>\n",
       "      <td>critical</td>\n",
       "      <td>education</td>\n",
       "      <td>2096</td>\n",
       "      <td>&lt; 100 DM</td>\n",
       "      <td>4 - 7 yrs</td>\n",
       "      <td>2</td>\n",
       "      <td>single male</td>\n",
       "      <td>none</td>\n",
       "      <td>...</td>\n",
       "      <td>real estate</td>\n",
       "      <td>49</td>\n",
       "      <td>none</td>\n",
       "      <td>own</td>\n",
       "      <td>1</td>\n",
       "      <td>1</td>\n",
       "      <td>2</td>\n",
       "      <td>none</td>\n",
       "      <td>yes</td>\n",
       "      <td>unskilled resident</td>\n",
       "    </tr>\n",
       "    <tr>\n",
       "      <th>3</th>\n",
       "      <td>&lt; 0 DM</td>\n",
       "      <td>42</td>\n",
       "      <td>repaid</td>\n",
       "      <td>furniture</td>\n",
       "      <td>7882</td>\n",
       "      <td>&lt; 100 DM</td>\n",
       "      <td>4 - 7 yrs</td>\n",
       "      <td>2</td>\n",
       "      <td>single male</td>\n",
       "      <td>guarantor</td>\n",
       "      <td>...</td>\n",
       "      <td>building society savings</td>\n",
       "      <td>45</td>\n",
       "      <td>none</td>\n",
       "      <td>for free</td>\n",
       "      <td>1</td>\n",
       "      <td>1</td>\n",
       "      <td>2</td>\n",
       "      <td>none</td>\n",
       "      <td>yes</td>\n",
       "      <td>skilled employee</td>\n",
       "    </tr>\n",
       "    <tr>\n",
       "      <th>4</th>\n",
       "      <td>&lt; 0 DM</td>\n",
       "      <td>24</td>\n",
       "      <td>delayed</td>\n",
       "      <td>car (new)</td>\n",
       "      <td>4870</td>\n",
       "      <td>&lt; 100 DM</td>\n",
       "      <td>1 - 4 yrs</td>\n",
       "      <td>3</td>\n",
       "      <td>single male</td>\n",
       "      <td>none</td>\n",
       "      <td>...</td>\n",
       "      <td>unknown/none</td>\n",
       "      <td>53</td>\n",
       "      <td>none</td>\n",
       "      <td>for free</td>\n",
       "      <td>2</td>\n",
       "      <td>2</td>\n",
       "      <td>2</td>\n",
       "      <td>none</td>\n",
       "      <td>yes</td>\n",
       "      <td>skilled employee</td>\n",
       "    </tr>\n",
       "  </tbody>\n",
       "</table>\n",
       "<p>5 rows × 21 columns</p>\n",
       "</div>"
      ],
      "text/plain": [
       "  checking_balance  months_loan_duration credit_history    purpose  amount  \\\n",
       "0           < 0 DM                     6       critical   radio/tv    1169   \n",
       "1       1 - 200 DM                    48         repaid   radio/tv    5951   \n",
       "2          unknown                    12       critical  education    2096   \n",
       "3           < 0 DM                    42         repaid  furniture    7882   \n",
       "4           < 0 DM                    24        delayed  car (new)    4870   \n",
       "\n",
       "  savings_balance employment_length  installment_rate personal_status  \\\n",
       "0         unknown           > 7 yrs                 4     single male   \n",
       "1        < 100 DM         1 - 4 yrs                 2          female   \n",
       "2        < 100 DM         4 - 7 yrs                 2     single male   \n",
       "3        < 100 DM         4 - 7 yrs                 2     single male   \n",
       "4        < 100 DM         1 - 4 yrs                 3     single male   \n",
       "\n",
       "  other_debtors         ...                          property age  \\\n",
       "0          none         ...                       real estate  67   \n",
       "1          none         ...                       real estate  22   \n",
       "2          none         ...                       real estate  49   \n",
       "3     guarantor         ...          building society savings  45   \n",
       "4          none         ...                      unknown/none  53   \n",
       "\n",
       "   installment_plan   housing existing_credits  default  dependents  \\\n",
       "0              none       own                2        1           1   \n",
       "1              none       own                1        2           1   \n",
       "2              none       own                1        1           2   \n",
       "3              none  for free                1        1           2   \n",
       "4              none  for free                2        2           2   \n",
       "\n",
       "   telephone foreign_worker                 job  \n",
       "0        yes            yes    skilled employee  \n",
       "1       none            yes    skilled employee  \n",
       "2       none            yes  unskilled resident  \n",
       "3       none            yes    skilled employee  \n",
       "4       none            yes    skilled employee  \n",
       "\n",
       "[5 rows x 21 columns]"
      ]
     },
     "execution_count": 10,
     "metadata": {},
     "output_type": "execute_result"
    }
   ],
   "source": [
    "#public data from: \n",
    "#https://www.kaggle.com/lohitharcot/creditbankdata\n",
    "\n",
    "data = pd.read_csv('data/credit-default.csv')\n",
    "data.head()"
   ]
  },
  {
   "cell_type": "code",
   "execution_count": 11,
   "metadata": {},
   "outputs": [
    {
     "name": "stdout",
     "output_type": "stream",
     "text": [
      "<class 'pandas.core.frame.DataFrame'>\n",
      "RangeIndex: 1000 entries, 0 to 999\n",
      "Data columns (total 21 columns):\n",
      "checking_balance        1000 non-null object\n",
      "months_loan_duration    1000 non-null int64\n",
      "credit_history          1000 non-null object\n",
      "purpose                 1000 non-null object\n",
      "amount                  1000 non-null int64\n",
      "savings_balance         1000 non-null object\n",
      "employment_length       1000 non-null object\n",
      "installment_rate        1000 non-null int64\n",
      "personal_status         1000 non-null object\n",
      "other_debtors           1000 non-null object\n",
      "residence_history       1000 non-null int64\n",
      "property                1000 non-null object\n",
      "age                     1000 non-null int64\n",
      "installment_plan        1000 non-null object\n",
      "housing                 1000 non-null object\n",
      "existing_credits        1000 non-null int64\n",
      "default                 1000 non-null int64\n",
      "dependents              1000 non-null int64\n",
      "telephone               1000 non-null object\n",
      "foreign_worker          1000 non-null object\n",
      "job                     1000 non-null object\n",
      "dtypes: int64(8), object(13)\n",
      "memory usage: 164.1+ KB\n"
     ]
    }
   ],
   "source": [
    "data.info()"
   ]
  },
  {
   "cell_type": "code",
   "execution_count": 12,
   "metadata": {},
   "outputs": [
    {
     "data": {
      "text/plain": [
       "1    700\n",
       "2    300\n",
       "Name: default, dtype: int64"
      ]
     },
     "execution_count": 12,
     "metadata": {},
     "output_type": "execute_result"
    }
   ],
   "source": [
    "#target value\n",
    "\n",
    "data.default.value_counts()"
   ]
  },
  {
   "cell_type": "code",
   "execution_count": 13,
   "metadata": {},
   "outputs": [
    {
     "data": {
      "image/png": "[encoded data removed]",
      "text/plain": [
       "<Figure size 432x288 with 1 Axes>"
      ]
     },
     "metadata": {
      "needs_background": "light"
     },
     "output_type": "display_data"
    }
   ],
   "source": [
    "plt.figure()\n",
    "sns.distplot(data['amount'])\n",
    "plt.show()"
   ]
  },
  {
   "cell_type": "code",
   "execution_count": 14,
   "metadata": {},
   "outputs": [
    {
     "data": {
      "image/png": "[encoded data removed]",
      "text/plain": [
       "<Figure size 1080x576 with 1 Axes>"
      ]
     },
     "metadata": {
      "needs_background": "light"
     },
     "output_type": "display_data"
    }
   ],
   "source": [
    "#split in groups afterwards\n",
    "\n",
    "plt.figure(figsize=(15,8))\n",
    "data.months_loan_duration.value_counts().sort_index().plot(kind = 'bar')\n",
    "plt.xlabel('months')\n",
    "plt.ylabel('amount')\n",
    "plt.show()"
   ]
  },
  {
   "cell_type": "code",
   "execution_count": 15,
   "metadata": {},
   "outputs": [
    {
     "data": {
      "text/plain": [
       "repaid                    530\n",
       "critical                  293\n",
       "delayed                    88\n",
       "fully repaid this bank     49\n",
       "fully repaid               40\n",
       "Name: credit_history, dtype: int64"
      ]
     },
     "execution_count": 15,
     "metadata": {},
     "output_type": "execute_result"
    }
   ],
   "source": [
    "data.credit_history.value_counts()"
   ]
  },
  {
   "cell_type": "code",
   "execution_count": null,
   "metadata": {},
   "outputs": [],
   "source": []
  },
  {
   "cell_type": "code",
   "execution_count": 16,
   "metadata": {},
   "outputs": [
    {
     "data": {
      "text/html": [
       "<div>\n",
       "<style scoped>\n",
       "    .dataframe tbody tr th:only-of-type {\n",
       "        vertical-align: middle;\n",
       "    }\n",
       "\n",
       "    .dataframe tbody tr th {\n",
       "        vertical-align: top;\n",
       "    }\n",
       "\n",
       "    .dataframe thead th {\n",
       "        text-align: right;\n",
       "    }\n",
       "</style>\n",
       "<table border=\"1\" class=\"dataframe\">\n",
       "  <thead>\n",
       "    <tr style=\"text-align: right;\">\n",
       "      <th></th>\n",
       "      <th>months_loan_duration</th>\n",
       "      <th>amount</th>\n",
       "      <th>installment_rate</th>\n",
       "      <th>residence_history</th>\n",
       "      <th>age</th>\n",
       "      <th>existing_credits</th>\n",
       "      <th>default</th>\n",
       "      <th>dependents</th>\n",
       "    </tr>\n",
       "  </thead>\n",
       "  <tbody>\n",
       "    <tr>\n",
       "      <th>months_loan_duration</th>\n",
       "      <td>1.000000</td>\n",
       "      <td>0.624984</td>\n",
       "      <td>0.074749</td>\n",
       "      <td>0.034067</td>\n",
       "      <td>-0.036136</td>\n",
       "      <td>-0.011284</td>\n",
       "      <td>0.214927</td>\n",
       "      <td>-0.023834</td>\n",
       "    </tr>\n",
       "    <tr>\n",
       "      <th>amount</th>\n",
       "      <td>0.624984</td>\n",
       "      <td>1.000000</td>\n",
       "      <td>-0.271316</td>\n",
       "      <td>0.028926</td>\n",
       "      <td>0.032716</td>\n",
       "      <td>0.020795</td>\n",
       "      <td>0.154739</td>\n",
       "      <td>0.017142</td>\n",
       "    </tr>\n",
       "    <tr>\n",
       "      <th>installment_rate</th>\n",
       "      <td>0.074749</td>\n",
       "      <td>-0.271316</td>\n",
       "      <td>1.000000</td>\n",
       "      <td>0.049302</td>\n",
       "      <td>0.058266</td>\n",
       "      <td>0.021669</td>\n",
       "      <td>0.072404</td>\n",
       "      <td>-0.071207</td>\n",
       "    </tr>\n",
       "    <tr>\n",
       "      <th>residence_history</th>\n",
       "      <td>0.034067</td>\n",
       "      <td>0.028926</td>\n",
       "      <td>0.049302</td>\n",
       "      <td>1.000000</td>\n",
       "      <td>0.266419</td>\n",
       "      <td>0.089625</td>\n",
       "      <td>0.002967</td>\n",
       "      <td>0.042643</td>\n",
       "    </tr>\n",
       "    <tr>\n",
       "      <th>age</th>\n",
       "      <td>-0.036136</td>\n",
       "      <td>0.032716</td>\n",
       "      <td>0.058266</td>\n",
       "      <td>0.266419</td>\n",
       "      <td>1.000000</td>\n",
       "      <td>0.149254</td>\n",
       "      <td>-0.091127</td>\n",
       "      <td>0.118201</td>\n",
       "    </tr>\n",
       "    <tr>\n",
       "      <th>existing_credits</th>\n",
       "      <td>-0.011284</td>\n",
       "      <td>0.020795</td>\n",
       "      <td>0.021669</td>\n",
       "      <td>0.089625</td>\n",
       "      <td>0.149254</td>\n",
       "      <td>1.000000</td>\n",
       "      <td>-0.045732</td>\n",
       "      <td>0.109667</td>\n",
       "    </tr>\n",
       "    <tr>\n",
       "      <th>default</th>\n",
       "      <td>0.214927</td>\n",
       "      <td>0.154739</td>\n",
       "      <td>0.072404</td>\n",
       "      <td>0.002967</td>\n",
       "      <td>-0.091127</td>\n",
       "      <td>-0.045732</td>\n",
       "      <td>1.000000</td>\n",
       "      <td>-0.003015</td>\n",
       "    </tr>\n",
       "    <tr>\n",
       "      <th>dependents</th>\n",
       "      <td>-0.023834</td>\n",
       "      <td>0.017142</td>\n",
       "      <td>-0.071207</td>\n",
       "      <td>0.042643</td>\n",
       "      <td>0.118201</td>\n",
       "      <td>0.109667</td>\n",
       "      <td>-0.003015</td>\n",
       "      <td>1.000000</td>\n",
       "    </tr>\n",
       "  </tbody>\n",
       "</table>\n",
       "</div>"
      ],
      "text/plain": [
       "                      months_loan_duration    amount  installment_rate  \\\n",
       "months_loan_duration              1.000000  0.624984          0.074749   \n",
       "amount                            0.624984  1.000000         -0.271316   \n",
       "installment_rate                  0.074749 -0.271316          1.000000   \n",
       "residence_history                 0.034067  0.028926          0.049302   \n",
       "age                              -0.036136  0.032716          0.058266   \n",
       "existing_credits                 -0.011284  0.020795          0.021669   \n",
       "default                           0.214927  0.154739          0.072404   \n",
       "dependents                       -0.023834  0.017142         -0.071207   \n",
       "\n",
       "                      residence_history       age  existing_credits   default  \\\n",
       "months_loan_duration           0.034067 -0.036136         -0.011284  0.214927   \n",
       "amount                         0.028926  0.032716          0.020795  0.154739   \n",
       "installment_rate               0.049302  0.058266          0.021669  0.072404   \n",
       "residence_history              1.000000  0.266419          0.089625  0.002967   \n",
       "age                            0.266419  1.000000          0.149254 -0.091127   \n",
       "existing_credits               0.089625  0.149254          1.000000 -0.045732   \n",
       "default                        0.002967 -0.091127         -0.045732  1.000000   \n",
       "dependents                     0.042643  0.118201          0.109667 -0.003015   \n",
       "\n",
       "                      dependents  \n",
       "months_loan_duration   -0.023834  \n",
       "amount                  0.017142  \n",
       "installment_rate       -0.071207  \n",
       "residence_history       0.042643  \n",
       "age                     0.118201  \n",
       "existing_credits        0.109667  \n",
       "default                -0.003015  \n",
       "dependents              1.000000  "
      ]
     },
     "execution_count": 16,
     "metadata": {},
     "output_type": "execute_result"
    }
   ],
   "source": [
    "correlation = data.corr('pearson')\n",
    "correlation"
   ]
  },
  {
   "cell_type": "code",
   "execution_count": 17,
   "metadata": {},
   "outputs": [
    {
     "data": {
      "text/plain": [
       "months_loan_duration    1.094184\n",
       "amount                  1.949628\n",
       "installment_rate       -0.531348\n",
       "residence_history      -0.272570\n",
       "age                     1.020739\n",
       "existing_credits        1.272576\n",
       "default                 0.874183\n",
       "dependents              1.909445\n",
       "dtype: float64"
      ]
     },
     "execution_count": 17,
     "metadata": {},
     "output_type": "execute_result"
    }
   ],
   "source": [
    "data.skew()"
   ]
  },
  {
   "cell_type": "code",
   "execution_count": 18,
   "metadata": {},
   "outputs": [
    {
     "data": {
      "image/png": "[encoded data removed]",
      "text/plain": [
       "<Figure size 1440x1080 with 9 Axes>"
      ]
     },
     "metadata": {
      "needs_background": "light"
     },
     "output_type": "display_data"
    }
   ],
   "source": [
    "data.hist(figsize=(20,15))\n",
    "plt.show()"
   ]
  },
  {
   "cell_type": "code",
   "execution_count": 19,
   "metadata": {},
   "outputs": [
    {
     "data": {
      "image/png": "[encoded data removed]",
      "text/plain": [
       "<Figure size 1440x1080 with 9 Axes>"
      ]
     },
     "metadata": {
      "needs_background": "light"
     },
     "output_type": "display_data"
    }
   ],
   "source": [
    "data.plot(kind='density', subplots=True, layout=(3,3), sharex= False, figsize = (20,15))\n",
    "plt.show()"
   ]
  },
  {
   "cell_type": "code",
   "execution_count": null,
   "metadata": {},
   "outputs": [],
   "source": []
  },
  {
   "cell_type": "code",
   "execution_count": null,
   "metadata": {},
   "outputs": [],
   "source": []
  },
  {
   "cell_type": "code",
   "execution_count": 20,
   "metadata": {},
   "outputs": [
    {
     "data": {
      "text/plain": [
       "1 - 4 yrs     339\n",
       "> 7 yrs       253\n",
       "4 - 7 yrs     174\n",
       "0 - 1 yrs     172\n",
       "unemployed     62\n",
       "Name: employment_length, dtype: int64"
      ]
     },
     "execution_count": 20,
     "metadata": {},
     "output_type": "execute_result"
    }
   ],
   "source": [
    "data.employment_length.value_counts()"
   ]
  },
  {
   "cell_type": "code",
   "execution_count": 21,
   "metadata": {},
   "outputs": [
    {
     "data": {
      "text/plain": [
       "212    2\n",
       "Name: default, dtype: int64"
      ]
     },
     "execution_count": 21,
     "metadata": {},
     "output_type": "execute_result"
    }
   ],
   "source": [
    "data.loc[(data['credit_history'] == 'fully repaid')].loc[data['employment_length'] == 'unemployed']['default']"
   ]
  },
  {
   "cell_type": "code",
   "execution_count": 22,
   "metadata": {},
   "outputs": [
    {
     "data": {
      "text/plain": [
       "1    700\n",
       "0    300\n",
       "Name: accepted, dtype: int64"
      ]
     },
     "execution_count": 22,
     "metadata": {},
     "output_type": "execute_result"
    }
   ],
   "source": [
    "data['accepted'] = data['default'].map(lambda x : 0 if x == 2 else 1)\n",
    "data['accepted'].value_counts()"
   ]
  },
  {
   "cell_type": "code",
   "execution_count": 23,
   "metadata": {},
   "outputs": [],
   "source": [
    "data = data.drop('default', axis = 1)"
   ]
  },
  {
   "cell_type": "code",
   "execution_count": 24,
   "metadata": {},
   "outputs": [
    {
     "data": {
      "text/plain": [
       "Index(['checking_balance', 'months_loan_duration', 'credit_history', 'purpose',\n",
       "       'amount', 'savings_balance', 'employment_length', 'installment_rate',\n",
       "       'personal_status', 'other_debtors', 'residence_history', 'property',\n",
       "       'age', 'installment_plan', 'housing', 'existing_credits', 'dependents',\n",
       "       'telephone', 'foreign_worker', 'job', 'accepted'],\n",
       "      dtype='object')"
      ]
     },
     "execution_count": 24,
     "metadata": {},
     "output_type": "execute_result"
    }
   ],
   "source": [
    "data.columns"
   ]
  },
  {
   "cell_type": "code",
   "execution_count": 25,
   "metadata": {},
   "outputs": [
    {
     "name": "stdout",
     "output_type": "stream",
     "text": [
      "<class 'pandas.core.frame.DataFrame'>\n",
      "RangeIndex: 1000 entries, 0 to 999\n",
      "Data columns (total 21 columns):\n",
      "checking_balance        1000 non-null object\n",
      "months_loan_duration    1000 non-null int64\n",
      "credit_history          1000 non-null object\n",
      "purpose                 1000 non-null object\n",
      "amount                  1000 non-null int64\n",
      "savings_balance         1000 non-null object\n",
      "employment_length       1000 non-null object\n",
      "installment_rate        1000 non-null int64\n",
      "personal_status         1000 non-null object\n",
      "other_debtors           1000 non-null object\n",
      "residence_history       1000 non-null int64\n",
      "property                1000 non-null object\n",
      "age                     1000 non-null int64\n",
      "installment_plan        1000 non-null object\n",
      "housing                 1000 non-null object\n",
      "existing_credits        1000 non-null int64\n",
      "dependents              1000 non-null int64\n",
      "telephone               1000 non-null object\n",
      "foreign_worker          1000 non-null object\n",
      "job                     1000 non-null object\n",
      "accepted                1000 non-null int64\n",
      "dtypes: int64(8), object(13)\n",
      "memory usage: 164.1+ KB\n"
     ]
    }
   ],
   "source": [
    "data.info()"
   ]
  },
  {
   "cell_type": "markdown",
   "metadata": {},
   "source": [
    "# data transformation"
   ]
  },
  {
   "cell_type": "code",
   "execution_count": 26,
   "metadata": {},
   "outputs": [],
   "source": [
    "#transform vars in order to create more informative ones"
   ]
  },
  {
   "cell_type": "code",
   "execution_count": null,
   "metadata": {},
   "outputs": [],
   "source": []
  },
  {
   "cell_type": "code",
   "execution_count": 27,
   "metadata": {},
   "outputs": [],
   "source": [
    "bins = [0,24,34,49,999]\n",
    "groups = ['under 25','25-34','35-49','50+']\n",
    "data['age_group'] = pd.cut(data['age'],bins,labels = groups)\n"
   ]
  },
  {
   "cell_type": "code",
   "execution_count": 28,
   "metadata": {},
   "outputs": [],
   "source": [
    "bins = [0,12,24,36,48,99]\n",
    "groups = [1,2,3,4,5]\n",
    "data['loan_dur'] = pd.cut(data['months_loan_duration'],bins,labels = groups)"
   ]
  },
  {
   "cell_type": "code",
   "execution_count": 29,
   "metadata": {},
   "outputs": [
    {
     "data": {
      "text/plain": [
       "1    243\n",
       "0     50\n",
       "Name: accepted, dtype: int64"
      ]
     },
     "execution_count": 29,
     "metadata": {},
     "output_type": "execute_result"
    }
   ],
   "source": [
    "data[data.credit_history == 'critical']['accepted'].value_counts()"
   ]
  },
  {
   "cell_type": "code",
   "execution_count": 30,
   "metadata": {},
   "outputs": [],
   "source": [
    "# replace cat vars into numbers when there is information in the order\n",
    "\n",
    "data = data.replace({'checking_balance' : {'unknown' : 0, '< 0 DM' : 1, '1 - 200 DM' : 2, '> 200 DM' : 3},\n",
    "                             \n",
    "                            'savings_balance' : {'unknown' : 0, '< 100 DM' : 1, '101 - 500 DM' : 2,\n",
    "                                                 '501 - 1000 DM' : 3, '> 1000 DM' : 4}, \n",
    "                            'employment_length' : {'unemployed' : 0, '0 - 1 yrs' : 1, '1 - 4 yrs' : 2, '4 - 7 yrs' : 3,\n",
    "                                                   '> 7 yrs' : 4},\n",
    "                            'telephone' : {'none' : 0, 'Yes' : 1},\n",
    "                            'foreign_worker' : {'yes' : 0, 'no' : 1}}\n",
    "                            )"
   ]
  },
  {
   "cell_type": "code",
   "execution_count": 31,
   "metadata": {},
   "outputs": [],
   "source": [
    "data = data.drop(['months_loan_duration', 'age'], axis = 1)"
   ]
  },
  {
   "cell_type": "code",
   "execution_count": 32,
   "metadata": {},
   "outputs": [
    {
     "data": {
      "text/plain": [
       "Index(['checking_balance', 'credit_history', 'purpose', 'amount',\n",
       "       'savings_balance', 'employment_length', 'installment_rate',\n",
       "       'personal_status', 'other_debtors', 'residence_history', 'property',\n",
       "       'installment_plan', 'housing', 'existing_credits', 'dependents',\n",
       "       'telephone', 'foreign_worker', 'job', 'accepted', 'age_group',\n",
       "       'loan_dur'],\n",
       "      dtype='object')"
      ]
     },
     "execution_count": 32,
     "metadata": {},
     "output_type": "execute_result"
    }
   ],
   "source": [
    "data.columns"
   ]
  },
  {
   "cell_type": "markdown",
   "metadata": {},
   "source": [
    "# statistical modeling"
   ]
  },
  {
   "cell_type": "code",
   "execution_count": null,
   "metadata": {},
   "outputs": [],
   "source": []
  },
  {
   "cell_type": "code",
   "execution_count": 33,
   "metadata": {},
   "outputs": [],
   "source": [
    "#information value metrics\n",
    "#good_person == 1, bad_person == 0\n",
    "#predictive power 0.02 to 0.1 weak, 0.1 to 0.3 medium, 0.3 to 0.5 strong and >0.5 suspicious or too good predictor\n",
    "\n",
    "# Calculation of IV  metrics\n",
    "def IV_calc(data,var):\n",
    "    if data[var].dtypes == \"object\":\n",
    "        dataf = data.groupby([var])['accepted'].agg(['count','sum'])\n",
    "        dataf.columns = [\"Total\",\"good\"]    \n",
    "        dataf[\"bad\"] = dataf[\"Total\"] - dataf[\"good\"]\n",
    "        dataf[\"good_per\"] = dataf[\"good\"]/dataf[\"good\"].sum()\n",
    "        dataf[\"bad_per\"] = dataf[\"bad\"]/dataf[\"bad\"].sum()\n",
    "        dataf[\"I_V\"] = (dataf[\"bad_per\"] - dataf[\"good_per\"]) * np.log(dataf[\"bad_per\"]/dataf[\"good_per\"])\n",
    "        return dataf\n",
    "    else:\n",
    "        data['bin_var'] = pd.qcut(data[var].rank(method='first'),10)\n",
    "        dataf = data.groupby(['bin_var'])['accepted'].agg(['count','sum'])\n",
    "        dataf.columns = [\"Total\",\"good\"]    \n",
    "        dataf[\"bad\"] = dataf[\"Total\"] - dataf[\"good\"]\n",
    "        dataf[\"good_per\"] = dataf[\"good\"]/dataf[\"good\"].sum()\n",
    "        dataf[\"bad_per\"] = dataf[\"bad\"]/dataf[\"bad\"].sum()\n",
    "        dataf[\"I_V\"] = (dataf[\"bad_per\"] - dataf[\"good_per\"]) * np.log(dataf[\"bad_per\"]/dataf[\"good_per\"])\n",
    "        return dataf"
   ]
  },
  {
   "cell_type": "code",
   "execution_count": null,
   "metadata": {},
   "outputs": [],
   "source": []
  },
  {
   "cell_type": "code",
   "execution_count": null,
   "metadata": {},
   "outputs": [],
   "source": []
  },
  {
   "cell_type": "code",
   "execution_count": 34,
   "metadata": {},
   "outputs": [
    {
     "name": "stdout",
     "output_type": "stream",
     "text": [
      "\n",
      "\n",
      "Information Value by descending order\n",
      "\n",
      "0.664 , checking_balance ,type = int64\n",
      "0.293 , credit_history ,type = object\n",
      "0.244 , loan_dur ,type = category\n",
      "0.171 , savings_balance ,type = int64\n",
      "0.169 , purpose ,type = object\n",
      "0.113 , property ,type = object\n",
      "0.113 , amount ,type = int64\n",
      "0.101 , age_group ,type = category\n",
      "0.098 , existing_credits ,type = int64\n",
      "0.092 , employment_length ,type = int64\n",
      "0.083 , housing ,type = object\n",
      "0.062 , installment_rate ,type = int64\n",
      "0.059 , foreign_worker ,type = int64\n",
      "0.058 , installment_plan ,type = object\n",
      "0.049 , residence_history ,type = int64\n",
      "0.045 , personal_status ,type = object\n",
      "0.034 , dependents ,type = int64\n",
      "0.032 , other_debtors ,type = object\n",
      "0.009 , job ,type = object\n",
      "0.006 , telephone ,type = object\n"
     ]
    }
   ],
   "source": [
    "print (\"\\n\\nInformation Value by descending order\\n\")\n",
    "\n",
    "discrete_columns = ['credit_history', 'purpose', 'personal_status', 'other_debtors',\n",
    "                    'property', 'installment_plan', 'housing', 'telephone', 'job',\n",
    "                    'loan_dur', 'age_group']\n",
    "\n",
    "continuous_columns = ['checking_balance', 'amount', 'savings_balance', 'employment_length',\n",
    "                      'installment_rate', 'residence_history', 'existing_credits',\n",
    "                      'dependents', 'foreign_worker']\n",
    "\n",
    "total_columns = discrete_columns + continuous_columns\n",
    "\n",
    "# List of IV values\n",
    "Iv_list = []\n",
    "for col in total_columns:\n",
    "    assigned_data =  IV_calc(data = data,var = col)\n",
    "    iv_val = round(assigned_data[\"I_V\"].sum(),3)\n",
    "    dt_type = data[col].dtypes\n",
    "    Iv_list.append((iv_val,col,dt_type))\n",
    "\n",
    "Iv_list = sorted(Iv_list,reverse = True)\n",
    "\n",
    "for i in range(len(Iv_list)):\n",
    "    print (Iv_list[i][0],\",\",Iv_list[i][1],\",type =\",Iv_list[i][2])"
   ]
  },
  {
   "cell_type": "code",
   "execution_count": 35,
   "metadata": {},
   "outputs": [
    {
     "data": {
      "text/plain": [
       "(1000, 36)"
      ]
     },
     "execution_count": 35,
     "metadata": {},
     "output_type": "execute_result"
    }
   ],
   "source": [
    "discrete_columns = ['credit_history', 'purpose', 'personal_status', 'other_debtors',\n",
    "                    'property', 'installment_plan', 'housing', 'telephone', 'job',\n",
    "                    'loan_dur', 'age_group']\n",
    "\n",
    "data_dum = pd.get_dummies(data[discrete_columns], drop_first=True)\n",
    "data_dum.shape"
   ]
  },
  {
   "cell_type": "code",
   "execution_count": 36,
   "metadata": {},
   "outputs": [
    {
     "data": {
      "text/plain": [
       "(1000, 9)"
      ]
     },
     "execution_count": 36,
     "metadata": {},
     "output_type": "execute_result"
    }
   ],
   "source": [
    "data_con = data[continuous_columns]\n",
    "data_con.shape"
   ]
  },
  {
   "cell_type": "code",
   "execution_count": 37,
   "metadata": {},
   "outputs": [
    {
     "data": {
      "text/plain": [
       "(1000, 45)"
      ]
     },
     "execution_count": 37,
     "metadata": {},
     "output_type": "execute_result"
    }
   ],
   "source": [
    "data_dummied = pd.concat([data_con, data_dum], axis = 1)\n",
    "data_dummied.shape"
   ]
  },
  {
   "cell_type": "code",
   "execution_count": 38,
   "metadata": {},
   "outputs": [],
   "source": [
    "x_train,x_test,y_train,y_test = train_test_split(data_dummied,data['accepted'],\n",
    "                                                 test_size = 0.3, \n",
    "                                                 random_state=42)\n",
    "\n",
    "y_train = pd.DataFrame(y_train)\n",
    "y_test = pd.DataFrame(y_test)"
   ]
  },
  {
   "cell_type": "code",
   "execution_count": 39,
   "metadata": {},
   "outputs": [
    {
     "data": {
      "text/plain": [
       "Index(['checking_balance', 'amount', 'savings_balance', 'employment_length',\n",
       "       'installment_rate', 'residence_history', 'existing_credits',\n",
       "       'dependents', 'foreign_worker', 'credit_history_delayed',\n",
       "       'credit_history_fully repaid', 'credit_history_fully repaid this bank',\n",
       "       'credit_history_repaid', 'purpose_car (new)', 'purpose_car (used)',\n",
       "       'purpose_domestic appliances', 'purpose_education', 'purpose_furniture',\n",
       "       'purpose_others', 'purpose_radio/tv', 'purpose_repairs',\n",
       "       'purpose_retraining', 'personal_status_female',\n",
       "       'personal_status_married male', 'personal_status_single male',\n",
       "       'other_debtors_guarantor', 'other_debtors_none', 'property_other',\n",
       "       'property_real estate', 'property_unknown/none',\n",
       "       'installment_plan_none', 'installment_plan_stores', 'housing_own',\n",
       "       'housing_rent', 'telephone_yes', 'job_skilled employee',\n",
       "       'job_unemployed non-resident', 'job_unskilled resident', 'loan_dur_2',\n",
       "       'loan_dur_3', 'loan_dur_4', 'loan_dur_5', 'age_group_25-34',\n",
       "       'age_group_35-49', 'age_group_50+'],\n",
       "      dtype='object')"
      ]
     },
     "execution_count": 39,
     "metadata": {},
     "output_type": "execute_result"
    }
   ],
   "source": [
    "x_train.columns"
   ]
  },
  {
   "cell_type": "code",
   "execution_count": null,
   "metadata": {},
   "outputs": [],
   "source": []
  },
  {
   "cell_type": "code",
   "execution_count": 40,
   "metadata": {},
   "outputs": [],
   "source": [
    "# Logistic Regression\n",
    "\n",
    "       \n",
    "       \n",
    "remove_cols_insig = ['installment_plan_stores', 'housing_rent', 'purpose_others', 'job_unskilled resident', \n",
    "                     'loan_dur_2', 'purpose_domestic appliances', 'purpose_repairs', 'other_debtors_none',\n",
    "                     'job_skilled employee', 'property_unknown/none','residence_history',\n",
    "                     'personal_status_married male', 'personal_status_female', 'dependents', 'age_group_25-34',\n",
    "                    'purpose_furniture','purpose_retraining','other_debtors_guarantor','job_unemployed non-resident',\n",
    "                    'employment_length','loan_dur_3','savings_balance', 'property_other', 'installment_plan_none',\n",
    "                    'credit_history_delayed','existing_credits','loan_dur_4','purpose_radio/tv','telephone_yes',\n",
    "                    'property_real estate']\n",
    "\n",
    "remove_cols = list(set(remove_cols_insig))"
   ]
  },
  {
   "cell_type": "code",
   "execution_count": 41,
   "metadata": {},
   "outputs": [
    {
     "name": "stdout",
     "output_type": "stream",
     "text": [
      "Optimization terminated successfully.\n",
      "         Current function value: 0.498756\n",
      "         Iterations 7\n",
      "                           Logit Regression Results                           \n",
      "==============================================================================\n",
      "Dep. Variable:               accepted   No. Observations:                  700\n",
      "Model:                          Logit   Df Residuals:                      684\n",
      "Method:                           MLE   Df Model:                           15\n",
      "Date:                Mon, 22 Oct 2018   Pseudo R-squ.:                  0.1819\n",
      "Time:                        14:21:20   Log-Likelihood:                -349.13\n",
      "converged:                       True   LL-Null:                       -426.75\n",
      "                                        LLR p-value:                 2.179e-25\n",
      "=========================================================================================================\n",
      "                                            coef    std err          z      P>|z|      [0.025      0.975]\n",
      "---------------------------------------------------------------------------------------------------------\n",
      "const                                     3.0300      0.468      6.475      0.000       2.113       3.947\n",
      "checking_balance                         -0.3352      0.099     -3.374      0.001      -0.530      -0.140\n",
      "amount                                   -0.0002   3.73e-05     -5.658      0.000      -0.000      -0.000\n",
      "installment_rate                         -0.3772      0.094     -3.996      0.000      -0.562      -0.192\n",
      "foreign_worker                            1.4595      0.721      2.025      0.043       0.047       2.872\n",
      "credit_history_fully repaid              -1.8332      0.434     -4.228      0.000      -2.683      -0.983\n",
      "credit_history_fully repaid this bank    -1.6345      0.416     -3.934      0.000      -2.449      -0.820\n",
      "credit_history_repaid                    -0.7397      0.217     -3.410      0.001      -1.165      -0.314\n",
      "purpose_car (new)                        -0.9766      0.223     -4.386      0.000      -1.413      -0.540\n",
      "purpose_car (used)                        0.8554      0.379      2.256      0.024       0.112       1.599\n",
      "purpose_education                        -1.1647      0.433     -2.687      0.007      -2.014      -0.315\n",
      "personal_status_single male               0.3893      0.200      1.951      0.051      -0.002       0.780\n",
      "housing_own                               0.5180      0.208      2.494      0.013       0.111       0.925\n",
      "loan_dur_5                                2.3540      1.019      2.311      0.021       0.357       4.351\n",
      "age_group_35-49                           0.6579      0.220      2.996      0.003       0.228       1.088\n",
      "age_group_50+                             0.7157      0.330      2.167      0.030       0.068       1.363\n",
      "=========================================================================================================\n"
     ]
    }
   ],
   "source": [
    "logistic_model = sm.Logit(y_train,sm.add_constant(x_train.drop(remove_cols, axis = 1))).fit()\n",
    "print (logistic_model.summary())"
   ]
  },
  {
   "cell_type": "code",
   "execution_count": 42,
   "metadata": {},
   "outputs": [
    {
     "name": "stdout",
     "output_type": "stream",
     "text": [
      "\n",
      "Variance Inflation Factor\n",
      "checking_balance 1.056\n",
      "amount 1.367\n",
      "installment_rate 1.173\n",
      "foreign_worker 1.041\n",
      "credit_history_fully repaid 1.127\n",
      "credit_history_fully repaid this bank 1.097\n",
      "credit_history_repaid 1.21\n",
      "purpose_car (new) 1.109\n",
      "purpose_car (used) 1.168\n",
      "purpose_education 1.054\n",
      "personal_status_single male 1.154\n",
      "housing_own 1.089\n",
      "loan_dur_5 1.14\n",
      "age_group_35-49 1.157\n",
      "age_group_50+ 1.126\n"
     ]
    }
   ],
   "source": [
    "# Calculation of VIF\n",
    "print (\"\\nVariance Inflation Factor\")\n",
    "cnames = x_train.drop(remove_cols,axis=1).columns\n",
    "for i in np.arange(0,len(cnames)):\n",
    "    xvars = list(cnames)\n",
    "    yvar = xvars.pop(i)\n",
    "    mod = sm.OLS(x_train.drop(remove_cols,axis=1)[yvar],sm.add_constant(x_train.drop(remove_cols,axis=1)[xvars]))\n",
    "    res = mod.fit()\n",
    "    vif = 1/(1-res.rsquared)\n",
    "    print (yvar,round(vif,3))"
   ]
  },
  {
   "cell_type": "markdown",
   "metadata": {},
   "source": [
    "# backward elimination methodology"
   ]
  },
  {
   "cell_type": "code",
   "execution_count": 43,
   "metadata": {},
   "outputs": [],
   "source": [
    "#this is the baseline to improve the model getting rid of most insignificant vars and vars with VIF > 5, \n",
    "#an iterative process finishing when no p>0.05 and VIF<5 for all vars\n",
    "#log-likelihood (AIC) will decrease "
   ]
  },
  {
   "cell_type": "code",
   "execution_count": null,
   "metadata": {},
   "outputs": [],
   "source": []
  },
  {
   "cell_type": "code",
   "execution_count": null,
   "metadata": {},
   "outputs": [],
   "source": []
  },
  {
   "cell_type": "code",
   "execution_count": 44,
   "metadata": {},
   "outputs": [
    {
     "name": "stdout",
     "output_type": "stream",
     "text": [
      "\n",
      "C-statistic: 0.7856\n"
     ]
    }
   ],
   "source": [
    "y_pred = pd.DataFrame(logistic_model.predict(sm.add_constant(x_train.drop(remove_cols,axis=1))))\n",
    "y_pred.columns = [\"probs\"]\n",
    "#both = pd.concat([y_train.reset_index(drop=True),y_pred],axis=1)\n",
    "\n",
    "both = pd.concat([y_train,y_pred],axis=1)\n",
    "\n",
    "zeros = both[['accepted','probs']][both['accepted']==0]\n",
    "ones = both[['accepted','probs']][both['accepted']==1]\n",
    "\n",
    "def df_crossjoin(df1, df2, **kwargs):\n",
    "    df1['_tmpkey'] = 1\n",
    "    df2['_tmpkey'] = 1\n",
    "    res = pd.merge(df1, df2, on='_tmpkey', **kwargs).drop('_tmpkey', axis=1)\n",
    "    res.index = pd.MultiIndex.from_product((df1.index, df2.index))\n",
    "    df1.drop('_tmpkey', axis=1, inplace=True)\n",
    "    df2.drop('_tmpkey', axis=1, inplace=True)\n",
    "    return res\n",
    "\n",
    "joined_data = df_crossjoin(ones,zeros)\n",
    "\n",
    "joined_data['concordant_pair'] = 0\n",
    "joined_data.loc[joined_data['probs_x'] > joined_data['probs_y'],'concordant_pair'] =1\n",
    "joined_data['discordant_pair'] = 0\n",
    "joined_data.loc[joined_data['probs_x'] < joined_data['probs_y'],'discordant_pair'] =1\n",
    "joined_data['tied_pair'] = 0           \n",
    "joined_data.loc[joined_data['probs_x'] == joined_data['probs_y'],'tied_pair'] =1 \n",
    "p_conc = (sum(joined_data['concordant_pair'])*1.0 )/ (joined_data.shape[0])     \n",
    "p_disc =  (sum(joined_data['discordant_pair'])*1.0 )/ (joined_data.shape[0])\n",
    "   \n",
    "\n",
    "c_statistic = 0.5 + (p_conc - p_disc)/2.0           \n",
    "print (\"\\nC-statistic:\",round(c_statistic,4))"
   ]
  },
  {
   "cell_type": "code",
   "execution_count": 45,
   "metadata": {},
   "outputs": [
    {
     "data": {
      "image/png": "[encoded data removed]",
      "text/plain": [
       "<Figure size 432x288 with 1 Axes>"
      ]
     },
     "metadata": {
      "needs_background": "light"
     },
     "output_type": "display_data"
    }
   ],
   "source": [
    "# ROC & AUC\n",
    "\n",
    "from sklearn import metrics\n",
    "from sklearn.metrics import auc\n",
    "fpr, tpr, thresholds = metrics.roc_curve(both['accepted'],both['probs'], pos_label=1)\n",
    "\n",
    "roc_auc = auc(fpr,tpr)\n",
    "plt.figure()\n",
    "lw = 2\n",
    "plt.plot(fpr, tpr, color='darkorange',\n",
    "         lw=lw, label='ROC curve (area = %0.2f)' % roc_auc)\n",
    "plt.plot([0, 1], [0, 1], color='navy', lw=lw, linestyle='--')\n",
    "plt.xlim([0.0, 1.0])\n",
    "plt.ylim([0.0, 1.05])\n",
    "plt.xlabel('False Positive Rate (1-Specificity)')\n",
    "plt.ylabel('True Positive Rate')\n",
    "plt.title('ROC Curve - Data')\n",
    "plt.legend(loc=\"lower right\")\n",
    "plt.show()"
   ]
  },
  {
   "cell_type": "code",
   "execution_count": 46,
   "metadata": {},
   "outputs": [
    {
     "name": "stdout",
     "output_type": "stream",
     "text": [
      "Threshold 0.0 Train Accuracy: 0.7014\n",
      "Threshold 0.1 Train Accuracy: 0.7029\n",
      "Threshold 0.2 Train Accuracy: 0.7186\n",
      "Threshold 0.30000000000000004 Train Accuracy: 0.7286\n",
      "Threshold 0.4 Train Accuracy: 0.74\n",
      "Threshold 0.5 Train Accuracy: 0.7614\n",
      "Threshold 0.6000000000000001 Train Accuracy: 0.7443\n",
      "Threshold 0.7000000000000001 Train Accuracy: 0.7057\n",
      "Threshold 0.8 Train Accuracy: 0.64\n",
      "Threshold 0.9 Train Accuracy: 0.4614\n",
      "\n",
      "Train Confusion Matrix\n",
      "\n",
      " Predicted   0    1\n",
      "Actual            \n",
      "0          86  123\n",
      "1          44  447\n",
      "\n",
      "Train Accuracy: 0.7614\n",
      "\n",
      "Test Confusion Matrix\n",
      "\n",
      " Predicted   0    1\n",
      "Actual            \n",
      "0          27   64\n",
      "1          21  188\n",
      "\n",
      "Test Accuracy: 0.7167\n"
     ]
    }
   ],
   "source": [
    "# Tuning for threshold\n",
    "for i in list(np.arange(0,1,0.1)):\n",
    "    both[\"y_pred\"] = 0\n",
    "    both.loc[both[\"probs\"] > i, 'y_pred'] = 1      \n",
    "    print (\"Threshold\",i,\"Train Accuracy:\",round(accuracy_score(both['accepted'],both['y_pred']),4))\n",
    "\n",
    "# Implement best threshold on train data\n",
    "both[\"y_pred\"] = 0\n",
    "both.loc[both[\"probs\"] > 0.5, 'y_pred'] = 1      \n",
    "print (\"\\nTrain Confusion Matrix\\n\\n\",pd.crosstab(both['accepted'],both['y_pred'],rownames = [\"Actual\"],colnames = [\"Predicted\"]))      \n",
    "print (\"\\nTrain Accuracy:\",round(accuracy_score(both['accepted'],both['y_pred']),4))\n",
    "\n",
    "# Predicting test output\n",
    "y_pred_test = pd.DataFrame(logistic_model.predict(sm.add_constant(x_test.drop(remove_cols,axis=1))))\n",
    "y_pred_test.columns = [\"probs\"]\n",
    "\n",
    "#both_test = pd.concat([y_test.reset_index(drop=True),y_pred_test],axis=1)\n",
    "both_test = pd.concat([y_test,y_pred_test],axis=1)\n",
    "both_test[\"y_pred\"] = 0\n",
    "both_test.loc[both_test[\"probs\"] > 0.5, 'y_pred'] = 1      \n",
    "print (\"\\nTest Confusion Matrix\\n\\n\",pd.crosstab(both_test['accepted'],both_test['y_pred'],rownames = [\"Actual\"],colnames = [\"Predicted\"]))      \n",
    "print (\"\\nTest Accuracy:\",round(accuracy_score(both_test['accepted'],both_test['y_pred']),4))\n"
   ]
  },
  {
   "cell_type": "markdown",
   "metadata": {},
   "source": [
    "# random forest"
   ]
  },
  {
   "cell_type": "code",
   "execution_count": 47,
   "metadata": {},
   "outputs": [],
   "source": [
    "# Random Forest - Scikit Learn\n",
    "x_train,x_test,y_train,y_test = train_test_split(data_dummied,data['accepted'],\n",
    "                                                 test_size = 0.3, \n",
    "                                                 random_state=42)"
   ]
  },
  {
   "cell_type": "code",
   "execution_count": 48,
   "metadata": {},
   "outputs": [
    {
     "name": "stdout",
     "output_type": "stream",
     "text": [
      "\n",
      "Random Forest - Train Confusion Matrix\n",
      "\n",
      " Predicted    0    1\n",
      "Actual             \n",
      "0          177   32\n",
      "1            0  491\n",
      "\n",
      "Random Forest - Train accuracy 0.954\n",
      "\n",
      "\n",
      "Random Forest - Test Confusion Matrix\n",
      "\n",
      " Predicted   0    1\n",
      "Actual            \n",
      "0          25   66\n",
      "1           9  200\n",
      "\n",
      "Random Forest - Test accuracy 0.75\n",
      "Testing accuracy: 0.75\n",
      "\n",
      "Complete report of Testing data\n",
      "               precision    recall  f1-score   support\n",
      "\n",
      "           0       0.74      0.27      0.40        91\n",
      "           1       0.75      0.96      0.84       209\n",
      "\n",
      "   micro avg       0.75      0.75      0.75       300\n",
      "   macro avg       0.74      0.62      0.62       300\n",
      "weighted avg       0.75      0.75      0.71       300\n",
      "\n"
     ]
    }
   ],
   "source": [
    "\n",
    "           \n",
    "\n",
    "rf_fit = RandomForestClassifier(n_estimators=1000,criterion=\"gini\",max_depth=100,min_samples_split=3,\n",
    "                                min_samples_leaf=2)\n",
    "rf_fit.fit(x_train,y_train)           \n",
    "\n",
    "print (\"\\nRandom Forest - Train Confusion Matrix\\n\\n\",pd.crosstab(y_train,rf_fit.predict(x_train),\n",
    "                                                                  rownames = [\"Actual\"],colnames = [\"Predicted\"]))      \n",
    "print (\"\\nRandom Forest - Train accuracy\",round(accuracy_score(y_train,rf_fit.predict(x_train)),3))\n",
    "\n",
    "print (\"\\n\\nRandom Forest - Test Confusion Matrix\\n\\n\",pd.crosstab(y_test,rf_fit.predict(x_test),\n",
    "                                                                   rownames = [\"Actual\"],colnames = [\"Predicted\"]))      \n",
    "print (\"\\nRandom Forest - Test accuracy\",round(accuracy_score(y_test,rf_fit.predict(x_test)),3))\n",
    "\n",
    "\n",
    "\n",
    "print (\"Testing accuracy:\",round(accuracy_score(y_test, rf_fit.predict(x_test)),4))\n",
    "print (\"\\nComplete report of Testing data\\n\",classification_report(y_test, rf_fit.predict(x_test)))\n",
    "\n"
   ]
  },
  {
   "cell_type": "code",
   "execution_count": 49,
   "metadata": {},
   "outputs": [
    {
     "name": "stdout",
     "output_type": "stream",
     "text": [
      "Fitting 5 folds for each of 36 candidates, totalling 180 fits\n"
     ]
    },
    {
     "name": "stderr",
     "output_type": "stream",
     "text": [
      "[Parallel(n_jobs=-1)]: Using backend LokyBackend with 4 concurrent workers.\n",
      "[Parallel(n_jobs=-1)]: Done  42 tasks      | elapsed:  1.8min\n",
      "[Parallel(n_jobs=-1)]: Done 180 out of 180 | elapsed:  8.4min finished\n"
     ]
    },
    {
     "name": "stdout",
     "output_type": "stream",
     "text": [
      "Best Training score: 0.766\n",
      "Best parameters set:\n",
      "\tclf__max_depth: 100\n",
      "\tclf__min_samples_leaf: 1\n",
      "\tclf__min_samples_split: 3\n",
      "\tclf__n_estimators: 3000\n",
      "Testing accuracy: 0.7433\n",
      "\n",
      "Complete report of Testing data\n",
      "               precision    recall  f1-score   support\n",
      "\n",
      "           0       0.69      0.27      0.39        91\n",
      "           1       0.75      0.95      0.84       209\n",
      "\n",
      "   micro avg       0.74      0.74      0.74       300\n",
      "   macro avg       0.72      0.61      0.62       300\n",
      "weighted avg       0.73      0.74      0.70       300\n",
      "\n",
      "\n",
      "\n",
      "Random Forest Grid Search- Test Confusion Matrix\n",
      "\n",
      " Predicted   0    1\n",
      "Actual            \n",
      "0          25   66\n",
      "1          11  198\n"
     ]
    }
   ],
   "source": [
    "# Grid Search\n",
    "from sklearn.pipeline import Pipeline\n",
    "from sklearn.model_selection import train_test_split,GridSearchCV\n",
    "\n",
    "pipeline = Pipeline([\n",
    "        ('clf',RandomForestClassifier(criterion='gini'))  ])\n",
    "\n",
    "parameters = {\n",
    "        'clf__n_estimators':(1000,2000,3000),\n",
    "        'clf__max_depth':(100,200,300),\n",
    "        'clf__min_samples_split':(2,3),\n",
    "        'clf__min_samples_leaf':(1,2)  }\n",
    "\n",
    "grid_search = GridSearchCV(pipeline,parameters,n_jobs=-1,cv=5,verbose=1,scoring='accuracy')\n",
    "grid_search.fit(x_train,y_train)\n",
    "\n",
    "\n",
    "print ('Best Training score: %0.3f' % grid_search.best_score_)\n",
    "print ('Best parameters set:')\n",
    "best_parameters = grid_search.best_estimator_.get_params()\n",
    "for param_name in sorted(parameters.keys()):\n",
    "    print ('\\t%s: %r' % (param_name, best_parameters[param_name]))\n",
    "\n",
    "predictions = grid_search.predict(x_test)\n",
    "\n",
    "print (\"Testing accuracy:\",round(accuracy_score(y_test, predictions),4))\n",
    "print (\"\\nComplete report of Testing data\\n\",classification_report(y_test, predictions))\n",
    "\n",
    "print (\"\\n\\nRandom Forest Grid Search- Test Confusion Matrix\\n\\n\",\n",
    "       pd.crosstab(y_test, predictions,rownames = [\"Actual\"],colnames = [\"Predicted\"]))      \n",
    "\n"
   ]
  },
  {
   "cell_type": "code",
   "execution_count": 50,
   "metadata": {},
   "outputs": [
    {
     "name": "stdout",
     "output_type": "stream",
     "text": [
      "\n",
      "Feature ranking:\n",
      "\n",
      "Feature 1 , amount 0.1331\n",
      "Feature 0 , checking_balance 0.0958\n",
      "Feature 3 , employment_length 0.0567\n",
      "Feature 4 , installment_rate 0.0446\n",
      "Feature 2 , savings_balance 0.0443\n",
      "Feature 5 , residence_history 0.0432\n",
      "Feature 13 , purpose_car (new) 0.0257\n",
      "Feature 6 , existing_credits 0.0252\n",
      "Feature 40 , loan_dur_4 0.0242\n",
      "Feature 34 , telephone_yes 0.0234\n",
      "Feature 12 , credit_history_repaid 0.0219\n",
      "Feature 42 , age_group_25-34 0.0218\n",
      "Feature 30 , installment_plan_none 0.0218\n",
      "Feature 38 , loan_dur_2 0.0217\n",
      "Feature 10 , credit_history_fully repaid 0.0211\n",
      "Feature 32 , housing_own 0.0207\n",
      "Feature 28 , property_real estate 0.0203\n",
      "Feature 27 , property_other 0.0202\n",
      "Feature 43 , age_group_35-49 0.0198\n",
      "Feature 24 , personal_status_single male 0.0196\n",
      "Feature 35 , job_skilled employee 0.0193\n",
      "Feature 19 , purpose_radio/tv 0.0192\n",
      "Feature 22 , personal_status_female 0.0182\n",
      "Feature 39 , loan_dur_3 0.0181\n",
      "Feature 29 , property_unknown/none 0.0172\n",
      "Feature 11 , credit_history_fully repaid this bank 0.0159\n",
      "Feature 17 , purpose_furniture 0.015\n",
      "Feature 37 , job_unskilled resident 0.0142\n",
      "Feature 7 , dependents 0.014\n",
      "Feature 33 , housing_rent 0.0135\n",
      "Feature 16 , purpose_education 0.0129\n",
      "Feature 9 , credit_history_delayed 0.0123\n",
      "Feature 26 , other_debtors_none 0.0122\n",
      "Feature 14 , purpose_car (used) 0.0112\n",
      "Feature 44 , age_group_50+ 0.0104\n",
      "Feature 23 , personal_status_married male 0.01\n",
      "Feature 25 , other_debtors_guarantor 0.008\n",
      "Feature 31 , installment_plan_stores 0.0075\n",
      "Feature 20 , purpose_repairs 0.0057\n",
      "Feature 8 , foreign_worker 0.0055\n",
      "Feature 36 , job_unemployed non-resident 0.0039\n",
      "Feature 15 , purpose_domestic appliances 0.0038\n",
      "Feature 18 , purpose_others 0.0036\n",
      "Feature 41 , loan_dur_5 0.0017\n",
      "Feature 21 , purpose_retraining 0.0016\n"
     ]
    }
   ],
   "source": [
    "# Variable Importance chart\n",
    "\n",
    "rf_fit = RandomForestClassifier(n_estimators=2000,criterion=\"gini\",\n",
    "                                max_depth=100,min_samples_split=3,min_samples_leaf=1)\n",
    "rf_fit.fit(x_train,y_train)   \n",
    "\n",
    "importances = rf_fit.feature_importances_\n",
    "std = np.std([tree.feature_importances_ for tree in rf_fit.estimators_], axis=0)\n",
    "indices = np.argsort(importances)[::-1]\n",
    "\n",
    "colnames = list(x_train.columns)\n",
    "# Print the feature ranking\n",
    "print(\"\\nFeature ranking:\\n\")\n",
    "for f in range(x_train.shape[1]):\n",
    "    print (\"Feature\",indices[f],\",\",colnames[indices[f]],round(importances[indices[f]],4))\n"
   ]
  },
  {
   "cell_type": "code",
   "execution_count": 51,
   "metadata": {},
   "outputs": [
    {
     "data": {
      "image/png": "[encoded data removed]",
      "text/plain": [
       "<Figure size 1440x720 with 1 Axes>"
      ]
     },
     "metadata": {
      "needs_background": "light"
     },
     "output_type": "display_data"
    }
   ],
   "source": [
    "plt.figure(figsize=(20,10))\n",
    "#plt.title(\"Variable importance\")\n",
    "plt.bar(range(x_train.shape[1]), importances[indices],\n",
    "       color=\"r\", yerr=std[indices], align=\"center\")\n",
    "plt.xticks(range(x_train.shape[1]), indices)\n",
    "plt.xlim([-1, x_train.shape[1]])\n",
    "plt.show()"
   ]
  },
  {
   "cell_type": "code",
   "execution_count": null,
   "metadata": {},
   "outputs": [],
   "source": []
  },
  {
   "cell_type": "markdown",
   "metadata": {},
   "source": [
    "# tree based learning models"
   ]
  },
  {
   "cell_type": "code",
   "execution_count": 52,
   "metadata": {},
   "outputs": [
    {
     "name": "stdout",
     "output_type": "stream",
     "text": [
      "\n",
      "Decision Tree - Train Confusion Matrix\n",
      "\n",
      " Predicted   0    1\n",
      "Actual            \n",
      "0          98  111\n",
      "1          42  449\n",
      "\n",
      "Decision Tree - Train accuracy: 0.781\n",
      "\n",
      "Decision Tree - Train Classification Report\n",
      "               precision    recall  f1-score   support\n",
      "\n",
      "           0       0.70      0.47      0.56       209\n",
      "           1       0.80      0.91      0.85       491\n",
      "\n",
      "   micro avg       0.78      0.78      0.78       700\n",
      "   macro avg       0.75      0.69      0.71       700\n",
      "weighted avg       0.77      0.78      0.77       700\n",
      "\n",
      "\n",
      "\n",
      "Decision Tree - Test Confusion Matrix\n",
      "\n",
      " Predicted   0    1\n",
      "Actual            \n",
      "0          21   70\n",
      "1          20  189\n",
      "\n",
      "Decision Tree - Test accuracy: 0.7\n",
      "\n",
      "Decision Tree - Test Classification Report\n",
      "               precision    recall  f1-score   support\n",
      "\n",
      "           0       0.51      0.23      0.32        91\n",
      "           1       0.73      0.90      0.81       209\n",
      "\n",
      "   micro avg       0.70      0.70      0.70       300\n",
      "   macro avg       0.62      0.57      0.56       300\n",
      "weighted avg       0.66      0.70      0.66       300\n",
      "\n"
     ]
    }
   ],
   "source": [
    "x_train,x_test,y_train,y_test = train_test_split(data_dummied,data['accepted'],\n",
    "                                                 test_size = 0.3, \n",
    "                                                 random_state=42)\n",
    "\n",
    "\n",
    "# Decision Tree Classifier\n",
    "from sklearn.tree import DecisionTreeClassifier\n",
    "\n",
    "\n",
    "dt_fit = DecisionTreeClassifier(criterion=\"gini\",max_depth=5,min_samples_split=2,min_samples_leaf=1,random_state=42)\n",
    "dt_fit.fit(x_train,y_train)\n",
    "\n",
    "print (\"\\nDecision Tree - Train Confusion Matrix\\n\\n\",pd.crosstab(y_train,dt_fit.predict(x_train),\n",
    "                                                                  rownames = [\"Actual\"],colnames = [\"Predicted\"]))      \n",
    "print (\"\\nDecision Tree - Train accuracy:\",round(accuracy_score(y_train,dt_fit.predict(x_train)),3))\n",
    "print (\"\\nDecision Tree - Train Classification Report\\n\",classification_report(y_train,dt_fit.predict(x_train)))\n",
    "\n",
    "print (\"\\n\\nDecision Tree - Test Confusion Matrix\\n\\n\",pd.crosstab(y_test,dt_fit.predict(x_test),\n",
    "                                                                   rownames = [\"Actual\"],colnames = [\"Predicted\"]))      \n",
    "print (\"\\nDecision Tree - Test accuracy:\",round(accuracy_score(y_test,dt_fit.predict(x_test)),3))\n",
    "print (\"\\nDecision Tree - Test Classification Report\\n\",classification_report(y_test,dt_fit.predict(x_test)))"
   ]
  },
  {
   "cell_type": "code",
   "execution_count": null,
   "metadata": {},
   "outputs": [],
   "source": []
  },
  {
   "cell_type": "code",
   "execution_count": 53,
   "metadata": {},
   "outputs": [
    {
     "name": "stdout",
     "output_type": "stream",
     "text": [
      "\n",
      "Bagging - Train Confusion Matrix\n",
      "\n",
      " Predicted   0    1\n",
      "Actual            \n",
      "0          85  124\n",
      "1           0  491\n",
      "\n",
      "Bagging- Train accuracy 0.823\n",
      "\n",
      "Bagging  - Train Classification Report\n",
      "               precision    recall  f1-score   support\n",
      "\n",
      "           0       1.00      0.41      0.58       209\n",
      "           1       0.80      1.00      0.89       491\n",
      "\n",
      "   micro avg       0.82      0.82      0.82       700\n",
      "   macro avg       0.90      0.70      0.73       700\n",
      "weighted avg       0.86      0.82      0.80       700\n",
      "\n",
      "\n",
      "\n",
      "Bagging - Test Confusion Matrix\n",
      "\n",
      " Predicted   0    1\n",
      "Actual            \n",
      "0          10   81\n",
      "1           3  206\n",
      "\n",
      "Bagging - Test accuracy 0.72\n",
      "\n",
      "Bagging - Test Classification Report\n",
      "               precision    recall  f1-score   support\n",
      "\n",
      "           0       0.77      0.11      0.19        91\n",
      "           1       0.72      0.99      0.83       209\n",
      "\n",
      "   micro avg       0.72      0.72      0.72       300\n",
      "   macro avg       0.74      0.55      0.51       300\n",
      "weighted avg       0.73      0.72      0.64       300\n",
      "\n"
     ]
    }
   ],
   "source": [
    "# Bagging Classifier\n",
    "from sklearn.tree import DecisionTreeClassifier\n",
    "from sklearn.ensemble import BaggingClassifier\n",
    "\n",
    "#define the object\n",
    "dt_fit = DecisionTreeClassifier(criterion=\"gini\",max_depth=5,min_samples_split=2,min_samples_leaf=1,random_state=42,\n",
    "                                class_weight = {0:0.5,1:0.5})\n",
    "\n",
    "#define the ensemble method for using with the object\n",
    "bag_fit = BaggingClassifier(base_estimator= dt_fit,n_estimators=3000,max_samples=0.67,max_features=1.0,\n",
    "                            bootstrap=True,bootstrap_features=True,n_jobs=-1,random_state=42)\n",
    "\n",
    "bag_fit.fit(x_train, y_train)\n",
    "\n",
    "print (\"\\nBagging - Train Confusion Matrix\\n\\n\",pd.crosstab(y_train,bag_fit.predict(x_train),\n",
    "                                                            rownames = [\"Actual\"],colnames = [\"Predicted\"]))      \n",
    "print (\"\\nBagging- Train accuracy\",round(accuracy_score(y_train,bag_fit.predict(x_train)),3))\n",
    "print (\"\\nBagging  - Train Classification Report\\n\",classification_report(y_train,bag_fit.predict(x_train)))\n",
    "\n",
    "print (\"\\n\\nBagging - Test Confusion Matrix\\n\\n\",pd.crosstab(y_test,bag_fit.predict(x_test),\n",
    "                                                             rownames = [\"Actual\"],colnames = [\"Predicted\"]))      \n",
    "print (\"\\nBagging - Test accuracy\",round(accuracy_score(y_test,bag_fit.predict(x_test)),3))\n",
    "print (\"\\nBagging - Test Classification Report\\n\",classification_report(y_test,bag_fit.predict(x_test)))\n",
    "\n"
   ]
  },
  {
   "cell_type": "code",
   "execution_count": 54,
   "metadata": {},
   "outputs": [
    {
     "name": "stdout",
     "output_type": "stream",
     "text": [
      "\n",
      "Random Forest - Train Confusion Matrix\n",
      "\n",
      " Predicted   0    1\n",
      "Actuall           \n",
      "0          47  162\n",
      "1           0  491\n",
      "\n",
      "Random Forest - Train accuracy 0.769\n",
      "\n",
      "Random Forest  - Train Classification Report\n",
      "               precision    recall  f1-score   support\n",
      "\n",
      "           0       1.00      0.22      0.37       209\n",
      "           1       0.75      1.00      0.86       491\n",
      "\n",
      "   micro avg       0.77      0.77      0.77       700\n",
      "   macro avg       0.88      0.61      0.61       700\n",
      "weighted avg       0.83      0.77      0.71       700\n",
      "\n",
      "\n",
      "\n",
      "Random Forest - Test Confusion Matrix\n",
      "\n",
      " Predicted  0    1\n",
      "Actuall          \n",
      "0          6   85\n",
      "1          0  209\n",
      "\n",
      "Random Forest - Test accuracy 0.717\n",
      "\n",
      "Random Forest - Test Classification Report\n",
      "               precision    recall  f1-score   support\n",
      "\n",
      "           0       1.00      0.07      0.12        91\n",
      "           1       0.71      1.00      0.83       209\n",
      "\n",
      "   micro avg       0.72      0.72      0.72       300\n",
      "   macro avg       0.86      0.53      0.48       300\n",
      "weighted avg       0.80      0.72      0.62       300\n",
      "\n"
     ]
    }
   ],
   "source": [
    "# Random Forest Classifier\n",
    "from sklearn.ensemble import RandomForestClassifier\n",
    "\n",
    "rf_fit = RandomForestClassifier(n_estimators=3000,criterion=\"gini\",max_depth=5,min_samples_split=2,bootstrap=True,\n",
    "                                max_features='auto',random_state=42,min_samples_leaf=1,class_weight = {0:0.5,1:0.5})\n",
    "rf_fit.fit(x_train,y_train)       \n",
    "\n",
    "print (\"\\nRandom Forest - Train Confusion Matrix\\n\\n\",pd.crosstab(y_train,rf_fit.predict(x_train),\n",
    "                                                                  rownames = [\"Actuall\"],colnames = [\"Predicted\"]))      \n",
    "print (\"\\nRandom Forest - Train accuracy\",round(accuracy_score(y_train,rf_fit.predict(x_train)),3))\n",
    "print (\"\\nRandom Forest  - Train Classification Report\\n\",classification_report(y_train,rf_fit.predict(x_train)))\n",
    "\n",
    "print (\"\\n\\nRandom Forest - Test Confusion Matrix\\n\\n\",pd.crosstab(y_test,rf_fit.predict(x_test),\n",
    "                                                                   rownames = [\"Actuall\"],colnames = [\"Predicted\"]))      \n",
    "print (\"\\nRandom Forest - Test accuracy\",round(accuracy_score(y_test,rf_fit.predict(x_test)),3))\n",
    "print (\"\\nRandom Forest - Test Classification Report\\n\",classification_report(y_test,rf_fit.predict(x_test)))"
   ]
  },
  {
   "cell_type": "code",
   "execution_count": 55,
   "metadata": {},
   "outputs": [
    {
     "data": {
      "image/png": "[encoded data removed]",
      "text/plain": [
       "<Figure size 1440x1080 with 1 Axes>"
      ]
     },
     "metadata": {
      "needs_background": "light"
     },
     "output_type": "display_data"
    }
   ],
   "source": [
    "# Plot of Variable importance by mean decrease in gini\n",
    "model_ranks = pd.Series(rf_fit.feature_importances_,\n",
    "                        index=x_train.columns, name='Importance').sort_values(ascending=False, inplace=False)\n",
    "model_ranks.index.name = 'Variables'\n",
    "top_features = model_ranks.iloc[:31].sort_values(ascending=True,inplace=False)\n",
    "plt.figure(figsize=(20,15))\n",
    "ax = top_features.plot(kind='barh')\n",
    "_ = ax.set_title(\"Variable Importance Plot\")\n",
    "_ = ax.set_xlabel('Mean decrease in Variance')\n",
    "_ = ax.set_yticklabels(top_features.index, fontsize=13)\n",
    "plt.show()"
   ]
  },
  {
   "cell_type": "code",
   "execution_count": null,
   "metadata": {},
   "outputs": [],
   "source": []
  },
  {
   "cell_type": "code",
   "execution_count": 56,
   "metadata": {},
   "outputs": [
    {
     "name": "stdout",
     "output_type": "stream",
     "text": [
      "\n",
      "AdaBoost - Train Confusion Matrix\n",
      "\n",
      " Predicted    0    1\n",
      "Actual             \n",
      "0          126   83\n",
      "1           39  452\n",
      "\n",
      "AdaBoost  - Train accuracy 0.826\n",
      "\n",
      "AdaBoost  - Train Classification Report\n",
      "               precision    recall  f1-score   support\n",
      "\n",
      "           0       0.76      0.60      0.67       209\n",
      "           1       0.84      0.92      0.88       491\n",
      "\n",
      "   micro avg       0.83      0.83      0.83       700\n",
      "   macro avg       0.80      0.76      0.78       700\n",
      "weighted avg       0.82      0.83      0.82       700\n",
      "\n",
      "\n",
      "\n",
      "AdaBoost  - Test Confusion Matrix\n",
      "\n",
      " Predicted   0    1\n",
      "Actual            \n",
      "0          39   52\n",
      "1          25  184\n",
      "\n",
      "AdaBoost  - Test accuracy 0.743\n",
      "\n",
      "AdaBoost - Test Classification Report\n",
      "               precision    recall  f1-score   support\n",
      "\n",
      "           0       0.61      0.43      0.50        91\n",
      "           1       0.78      0.88      0.83       209\n",
      "\n",
      "   micro avg       0.74      0.74      0.74       300\n",
      "   macro avg       0.69      0.65      0.67       300\n",
      "weighted avg       0.73      0.74      0.73       300\n",
      "\n"
     ]
    }
   ],
   "source": [
    "# Adaboost Classifier\n",
    "from sklearn.tree import DecisionTreeClassifier\n",
    "from sklearn.ensemble import AdaBoostClassifier\n",
    "#decision stump is used as a base classifier for AdaBoost\n",
    "dtree = DecisionTreeClassifier(criterion='gini',max_depth=1)\n",
    "\n",
    "adabst_fit = AdaBoostClassifier(base_estimator= dtree,\n",
    "        n_estimators=5000,learning_rate=0.05,random_state=42)\n",
    "\n",
    "#learning rate and n_estimators have a trade-off\n",
    "adabst_fit.fit(x_train, y_train)\n",
    "\n",
    "print (\"\\nAdaBoost - Train Confusion Matrix\\n\\n\",pd.crosstab(y_train,adabst_fit.predict(x_train),\n",
    "                                                             rownames = [\"Actual\"],colnames = [\"Predicted\"]))      \n",
    "print (\"\\nAdaBoost  - Train accuracy\",round(accuracy_score(y_train,adabst_fit.predict(x_train)),3))\n",
    "print (\"\\nAdaBoost  - Train Classification Report\\n\",classification_report(y_train,adabst_fit.predict(x_train)))\n",
    "\n",
    "print (\"\\n\\nAdaBoost  - Test Confusion Matrix\\n\\n\",pd.crosstab(y_test,adabst_fit.predict(x_test),\n",
    "                                                               rownames = [\"Actual\"],colnames = [\"Predicted\"]))      \n",
    "print (\"\\nAdaBoost  - Test accuracy\",round(accuracy_score(y_test,adabst_fit.predict(x_test)),3))\n",
    "print (\"\\nAdaBoost - Test Classification Report\\n\",classification_report(y_test,adabst_fit.predict(x_test)))\n",
    "\n"
   ]
  },
  {
   "cell_type": "code",
   "execution_count": 57,
   "metadata": {},
   "outputs": [
    {
     "name": "stdout",
     "output_type": "stream",
     "text": [
      "\n",
      "Gradient Boost - Train Confusion Matrix\n",
      "\n",
      " Predicted    0    1\n",
      "Actuall            \n",
      "0          125   84\n",
      "1           38  453\n",
      "\n",
      "Gradient Boost - Train accuracy 0.826\n",
      "\n",
      "Gradient Boost  - Train Classification Report\n",
      "               precision    recall  f1-score   support\n",
      "\n",
      "           0       0.77      0.60      0.67       209\n",
      "           1       0.84      0.92      0.88       491\n",
      "\n",
      "   micro avg       0.83      0.83      0.83       700\n",
      "   macro avg       0.81      0.76      0.78       700\n",
      "weighted avg       0.82      0.83      0.82       700\n",
      "\n",
      "\n",
      "\n",
      "Gradient Boost - Test Confusion Matrix\n",
      "\n",
      " Predicted   0    1\n",
      "Actuall           \n",
      "0          38   53\n",
      "1          22  187\n",
      "\n",
      "Gradient Boost - Test accuracy 0.75\n",
      "\n",
      "Gradient Boost - Test Classification Report\n",
      "               precision    recall  f1-score   support\n",
      "\n",
      "           0       0.63      0.42      0.50        91\n",
      "           1       0.78      0.89      0.83       209\n",
      "\n",
      "   micro avg       0.75      0.75      0.75       300\n",
      "   macro avg       0.71      0.66      0.67       300\n",
      "weighted avg       0.73      0.75      0.73       300\n",
      "\n"
     ]
    }
   ],
   "source": [
    "# Gradientboost Classifier\n",
    "from sklearn.ensemble import GradientBoostingClassifier\n",
    "\n",
    "gbc_fit = GradientBoostingClassifier(loss='deviance',learning_rate=0.05,n_estimators=5000,\n",
    "                                     min_samples_split=2,min_samples_leaf=1,max_depth=1,random_state=42 )\n",
    "gbc_fit.fit(x_train,y_train)\n",
    "\n",
    "print (\"\\nGradient Boost - Train Confusion Matrix\\n\\n\",pd.crosstab(y_train,gbc_fit.predict(x_train),\n",
    "                                                                   rownames = [\"Actuall\"],colnames = [\"Predicted\"]))      \n",
    "print (\"\\nGradient Boost - Train accuracy\",round(accuracy_score(y_train,gbc_fit.predict(x_train)),3))\n",
    "print (\"\\nGradient Boost  - Train Classification Report\\n\",classification_report(y_train,gbc_fit.predict(x_train)))\n",
    "\n",
    "print (\"\\n\\nGradient Boost - Test Confusion Matrix\\n\\n\",pd.crosstab(y_test,gbc_fit.predict(x_test),\n",
    "                                                                    rownames = [\"Actuall\"],colnames = [\"Predicted\"]))      \n",
    "print (\"\\nGradient Boost - Test accuracy\",round(accuracy_score(y_test,gbc_fit.predict(x_test)),3))\n",
    "print (\"\\nGradient Boost - Test Classification Report\\n\",classification_report(y_test,gbc_fit.predict(x_test)))\n"
   ]
  },
  {
   "cell_type": "code",
   "execution_count": null,
   "metadata": {},
   "outputs": [],
   "source": []
  },
  {
   "cell_type": "code",
   "execution_count": null,
   "metadata": {},
   "outputs": [],
   "source": []
  }
 ],
 "metadata": {
  "kernelspec": {
   "display_name": "Python 3",
   "language": "python",
   "name": "python3"
  },
  "language_info": {
   "codemirror_mode": {
    "name": "ipython",
    "version": 3
   },
   "file_extension": ".py",
   "mimetype": "text/x-python",
   "name": "python",
   "nbconvert_exporter": "python",
   "pygments_lexer": "ipython3",
   "version": "3.6.6"
  }
 },
 "nbformat": 4,
 "nbformat_minor": 2
}
